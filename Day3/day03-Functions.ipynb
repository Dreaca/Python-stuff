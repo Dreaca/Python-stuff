{
 "cells": [
  {
   "cell_type": "code",
   "execution_count": 4,
   "metadata": {},
   "outputs": [
    {
     "data": {
      "text/plain": [
       "15"
      ]
     },
     "execution_count": 4,
     "metadata": {},
     "output_type": "execute_result"
    }
   ],
   "source": [
    "def calculate_sum(num1, num2):\n",
    "    return num1 + num2\n",
    "\n",
    "calculate_sum(5, 10)"
   ]
  },
  {
   "cell_type": "code",
   "execution_count": null,
   "metadata": {},
   "outputs": [
    {
     "data": {
      "text/plain": [
       "(153.93804002589985, 'sqrm')"
      ]
     },
     "execution_count": 12,
     "metadata": {},
     "output_type": "execute_result"
    }
   ],
   "source": [
    "PI_VALUE = 3.141592653589793\n",
    "def calculate_area_of_circle(r):\n",
    "    return PI_VALUE * r **2\n",
    "\n",
    "calculate_area_of_circle(7)"
   ]
  },
  {
   "cell_type": "code",
   "execution_count": null,
   "metadata": {},
   "outputs": [
    {
     "name": "stdout",
     "output_type": "stream",
     "text": [
      "Total 45 / lenght 6\n"
     ]
    },
    {
     "data": {
      "text/plain": [
       "7.5"
      ]
     },
     "execution_count": 14,
     "metadata": {},
     "output_type": "execute_result"
    }
   ],
   "source": [
    "my_list = [4,8,12,5,9,7]\n",
    "\n",
    "def calculate_mean_value (list):\n",
    "    total = 0\n",
    "    for num in list:\n",
    "        total += num\n",
    "    \n",
    "    print(\"Total\",total,\"/ lenght\",len(list))\n",
    "    \n",
    "    return total / len(list)\n",
    "\n",
    "calculate_mean_value(my_list)"
   ]
  },
  {
   "cell_type": "code",
   "execution_count": 3,
   "metadata": {},
   "outputs": [
    {
     "data": {
      "text/plain": [
       "8"
      ]
     },
     "execution_count": 3,
     "metadata": {},
     "output_type": "execute_result"
    }
   ],
   "source": [
    "def add_numbers(a, b=5):\n",
    "    return a + b\n",
    "\n",
    "add_numbers(3)"
   ]
  },
  {
   "cell_type": "code",
   "execution_count": null,
   "metadata": {},
   "outputs": [
    {
     "ename": "SyntaxError",
     "evalue": "parameter without a default follows parameter with a default (4196915665.py, line 1)",
     "output_type": "error",
     "traceback": [
      "\u001b[1;36m  Cell \u001b[1;32mIn[4], line 1\u001b[1;36m\u001b[0m\n\u001b[1;33m    def add_numbers(a, b=5, c):\u001b[0m\n\u001b[1;37m                            ^\u001b[0m\n\u001b[1;31mSyntaxError\u001b[0m\u001b[1;31m:\u001b[0m parameter without a default follows parameter with a default\n"
     ]
    }
   ],
   "source": [
    "def add_numbers(a, b=5, c):# cannot do this \n",
    "    return a + b+c\n",
    "\n",
    "add_numbers(3,4)"
   ]
  },
  {
   "cell_type": "code",
   "execution_count": null,
   "metadata": {},
   "outputs": [
    {
     "data": {
      "text/plain": [
       "12"
      ]
     },
     "execution_count": 6,
     "metadata": {},
     "output_type": "execute_result"
    }
   ],
   "source": [
    "def add_numbers(a,b, c=5):\n",
    "    return a + b+c\n",
    "\n",
    "add_numbers(3,4)"
   ]
  },
  {
   "cell_type": "code",
   "execution_count": 8,
   "metadata": {},
   "outputs": [
    {
     "data": {
      "text/plain": [
       "13"
      ]
     },
     "execution_count": 8,
     "metadata": {},
     "output_type": "execute_result"
    }
   ],
   "source": [
    "def add_numbers(a,b):\n",
    "    return a + b\n",
    "\n",
    "add_numbers(a=3,b=4)\n",
    "add_numbers(b=8,a=5)"
   ]
  },
  {
   "cell_type": "code",
   "execution_count": 28,
   "metadata": {},
   "outputs": [
    {
     "data": {
      "text/plain": [
       "1650.0"
      ]
     },
     "execution_count": 28,
     "metadata": {},
     "output_type": "execute_result"
    }
   ],
   "source": [
    "# define a function name \"calculate_total_cost\" with the following parameters\n",
    "# item_price(mandatory, price of the product)\n",
    "# quantity(mandatory)\n",
    "# discount(optional) default = 0 a percentage applied to the total cost\n",
    "# tax(optional) default = 0 a percentage applied after discount\n",
    "\n",
    "def calculate_total_cost(item_price, quantity, discount = 0,tax = 0):\n",
    "    total_cost = (quantity*item_price)\n",
    "\n",
    "    discounted_price = total_cost-(total_cost*discount/100)\n",
    "\n",
    "    taxed_price = discounted_price+(discounted_price*tax/100)\n",
    "\n",
    "    return taxed_price\n",
    "\n",
    "calculate_total_cost(500.0, 4,25,10)\n"
   ]
  }
 ],
 "metadata": {
  "kernelspec": {
   "display_name": "Python 3",
   "language": "python",
   "name": "python3"
  },
  "language_info": {
   "codemirror_mode": {
    "name": "ipython",
    "version": 3
   },
   "file_extension": ".py",
   "mimetype": "text/x-python",
   "name": "python",
   "nbconvert_exporter": "python",
   "pygments_lexer": "ipython3",
   "version": "3.13.0"
  }
 },
 "nbformat": 4,
 "nbformat_minor": 2
}
