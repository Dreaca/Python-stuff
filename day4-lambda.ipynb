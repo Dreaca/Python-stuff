{
 "cells": [
  {
   "cell_type": "code",
   "execution_count": 3,
   "metadata": {},
   "outputs": [
    {
     "name": "stdout",
     "output_type": "stream",
     "text": [
      "7\n"
     ]
    }
   ],
   "source": [
    "add = lambda x, y: x + y #assign to a variable\n",
    "\n",
    "print(add(3,4))"
   ]
  },
  {
   "cell_type": "code",
   "execution_count": 5,
   "metadata": {},
   "outputs": [
    {
     "name": "stdout",
     "output_type": "stream",
     "text": [
      "8\n"
     ]
    }
   ],
   "source": [
    "print((lambda x, y: x + y)(5,3)) #not assign to a variable"
   ]
  },
  {
   "cell_type": "code",
   "execution_count": null,
   "metadata": {},
   "outputs": [
    {
     "name": "stdout",
     "output_type": "stream",
     "text": [
      "[('John', 20), ('Sarah', 35), ('Katie', 40)]\n"
     ]
    }
   ],
   "source": [
    "#write a python program that :\n",
    "#1. takes a list of tuples, where each tuple contains a name(string) and age(integer).\n",
    "#2. use a lambda function to filter out the tuples where the age is less than 18\n",
    "#3. print the list of tuples after filtering\n",
    "\n",
    "my_list = [(\"John\",20),(\"Sarah\",35),(\"Wick\",18),(\"Jinx\",17),(\"Katie\",40)]\n",
    "\n",
    "result = (filter((lambda x : x[1] > 18),my_list))\n",
    "\n",
    "print(list(result))"
   ]
  },
  {
   "cell_type": "code",
   "execution_count": 1,
   "metadata": {},
   "outputs": [
    {
     "name": "stdout",
     "output_type": "stream",
     "text": [
      "10\n"
     ]
    }
   ],
   "source": [
    "def my_func(x):\n",
    "    return lambda a : a * x\n",
    "\n",
    "my_doubler = my_func(2)\n",
    "\n",
    "print(my_doubler(5))"
   ]
  },
  {
   "cell_type": "code",
   "execution_count": 11,
   "metadata": {},
   "outputs": [
    {
     "name": "stdout",
     "output_type": "stream",
     "text": [
      "99.5\n"
     ]
    }
   ],
   "source": [
    "#write a lambda function to decide the largest number between two numbers\n",
    "\n",
    "print((lambda x,y : max(x,y))(99,99.5))\n",
    "\n"
   ]
  }
 ],
 "metadata": {
  "kernelspec": {
   "display_name": "Python 3",
   "language": "python",
   "name": "python3"
  },
  "language_info": {
   "codemirror_mode": {
    "name": "ipython",
    "version": 3
   },
   "file_extension": ".py",
   "mimetype": "text/x-python",
   "name": "python",
   "nbconvert_exporter": "python",
   "pygments_lexer": "ipython3",
   "version": "3.13.0"
  }
 },
 "nbformat": 4,
 "nbformat_minor": 2
}
