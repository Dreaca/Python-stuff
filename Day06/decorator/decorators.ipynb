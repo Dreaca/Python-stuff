{
 "cells": [
  {
   "cell_type": "code",
   "execution_count": 9,
   "metadata": {},
   "outputs": [
    {
     "name": "stdout",
     "output_type": "stream",
     "text": [
      "I got decorated\n",
      "I am an ordinary function\n"
     ]
    }
   ],
   "source": [
    "def make_pretty(func):\n",
    "    def inner():\n",
    "        print(\"I got decorated\")\n",
    "        func()\n",
    "    return inner\n",
    "@make_pretty #Decorator\n",
    "def ordinary():\n",
    "    print(\"I am an ordinary function\")\n",
    "\n",
    "ordinary()\n",
    "\n",
    "# get_decorated = make_pretty(ordinary)\n",
    "\n",
    "# get_decorated()"
   ]
  },
  {
   "cell_type": "code",
   "execution_count": 21,
   "metadata": {},
   "outputs": [
    {
     "name": "stdout",
     "output_type": "stream",
     "text": [
      "5.0\n"
     ]
    }
   ],
   "source": [
    "#write a python program with the following requirements.\n",
    "#1. Create a decorator check_positive that\n",
    "                        # - check if the input to a function is positive number\n",
    "                        # - if the input is not positive print a message \"Input must be a positive number\"\n",
    "#2. Use this decorator on a function calculate_square_roots() that,\n",
    "                        # - takes one number as input \n",
    "                        # - returns the square roots of the input number\n",
    "import math\n",
    "def check_positive(func):\n",
    "    def inner(x):\n",
    "        if x > 0:\n",
    "            return func(x)\n",
    "        else:\n",
    "            print(\"Input must be a positive number\")\n",
    "            return 0\n",
    "    return inner\n",
    "\n",
    "@check_positive\n",
    "def calculate_square_roots(x):\n",
    "    return math.sqrt(x)\n",
    "\n",
    "print(calculate_square_roots(int(input('input Number'))))\n"
   ]
  }
 ],
 "metadata": {
  "kernelspec": {
   "display_name": "Python 3",
   "language": "python",
   "name": "python3"
  },
  "language_info": {
   "codemirror_mode": {
    "name": "ipython",
    "version": 3
   },
   "file_extension": ".py",
   "mimetype": "text/x-python",
   "name": "python",
   "nbconvert_exporter": "python",
   "pygments_lexer": "ipython3",
   "version": "3.13.0"
  }
 },
 "nbformat": 4,
 "nbformat_minor": 2
}
