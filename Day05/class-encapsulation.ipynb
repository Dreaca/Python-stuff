{
 "cells": [
  {
   "cell_type": "code",
   "execution_count": 5,
   "metadata": {},
   "outputs": [
    {
     "name": "stdout",
     "output_type": "stream",
     "text": [
      "test1\n",
      "Protected method called\n"
     ]
    },
    {
     "ename": "AttributeError",
     "evalue": "'MyClass' object has no attribute '__private_method'",
     "output_type": "error",
     "traceback": [
      "\u001b[1;31m---------------------------------------------------------------------------\u001b[0m",
      "\u001b[1;31mAttributeError\u001b[0m                            Traceback (most recent call last)",
      "Cell \u001b[1;32mIn[5], line 20\u001b[0m\n\u001b[0;32m     16\u001b[0m \u001b[38;5;66;03m# print(my_object.__private_var) # Not accessible due to double underscore prefix\u001b[39;00m\n\u001b[0;32m     18\u001b[0m my_object\u001b[38;5;241m.\u001b[39m_protected_method() \u001b[38;5;66;03m# Accessible\u001b[39;00m\n\u001b[1;32m---> 20\u001b[0m \u001b[43mmy_object\u001b[49m\u001b[38;5;241;43m.\u001b[39;49m\u001b[43m__private_method\u001b[49m() \u001b[38;5;66;03m# Not accessible due to double underscore prefix\u001b[39;00m\n",
      "\u001b[1;31mAttributeError\u001b[0m: 'MyClass' object has no attribute '__private_method'"
     ]
    }
   ],
   "source": [
    "class MyClass():\n",
    "    def __init__(self, protected_var,private_var):\n",
    "        self._protected_var = protected_var\n",
    "        self.__private_var = private_var\n",
    "\n",
    "    def _protected_method(self):\n",
    "        print(\"Protected method called\")\n",
    "\n",
    "    def __private_method(self):\n",
    "        print(\"Private method called\")\n",
    "\n",
    "my_object = MyClass(\"test1\", \"test2\")\n",
    "\n",
    "print(my_object._protected_var) # Accessible\n",
    "\n",
    "# print(my_object.__private_var) # Not accessible due to double underscore prefix\n",
    "\n",
    "my_object._protected_method() # Accessible\n",
    "\n",
    "my_object.__private_method() # Not accessible due to double underscore prefix\n"
   ]
  },
  {
   "cell_type": "code",
   "execution_count": null,
   "metadata": {},
   "outputs": [
    {
     "name": "stdout",
     "output_type": "stream",
     "text": [
      "Value of data : Example Data\n",
      "Value of data : New Value\n"
     ]
    }
   ],
   "source": [
    "class Example():\n",
    "    def __init__(self):\n",
    "        self.__data = \"Example Data\"\n",
    "\n",
    "    def get_value(self):\n",
    "        print(\"Value of data :\", self.__data)\n",
    "\n",
    "    def set_value(self, value):\n",
    "        self.__data = value\n",
    "    \n",
    "\n",
    "obj = Example()\n",
    "\n",
    "obj.get_value()\n",
    "\n",
    "obj.set_value(\"New Example Data\")\n",
    "\n",
    "obj.get_value()"
   ]
  },
  {
   "cell_type": "code",
   "execution_count": 22,
   "metadata": {},
   "outputs": [
    {
     "name": "stdout",
     "output_type": "stream",
     "text": [
      "Roots are:  ((-0.6666666666666666+1.247219128924647j), (-0.6666666666666666-1.247219128924647j))\n",
      "\n",
      "=========================================\n",
      "Roots are:  -2.0\n",
      "\n",
      "=========================================\n",
      "Roots are (7.3166247903554, 0.6833752096446002)\n",
      "\n",
      "=========================================\n"
     ]
    }
   ],
   "source": [
    "#Write a python program to create a class QuadatricEquation class that represents Quadritic Equation for ax^2 + bx +c\n",
    "#The class should have\n",
    "#   -Attributes : Private attributes a,b and c to store the core variables of the Quadratic Equation\n",
    "#   -Methods : 1. A constructor to initialize the probition a,b and c\n",
    "#              2. A private method __discriminant() that calculates and returns the descriminant(D = b^2 - 4ac)\n",
    "#              3. A public method find_roots() that use the private method __discriminant(), return the root of the QuadatricEquation\n",
    "#                     i. if D = 0 : 1 real roots\n",
    "#                     ii. if D > 1 : 2 distinct real roots\n",
    "#                     iii. if D < 1 : 2 Complex roots\n",
    "\n",
    "import math;\n",
    "import cmath;\n",
    "class QuadraticEquation:\n",
    "    def __init__(self):\n",
    "        self.__a = 0\n",
    "        self.__b = 0\n",
    "        self.__c = 0\n",
    "    def set_a(self,a):\n",
    "        self.__a = a\n",
    "    def set_b(self,b):\n",
    "        self.__b = b\n",
    "    def set_c(self,c):\n",
    "        self.__c = c\n",
    "\n",
    "    def __discriminant(self):\n",
    "        return self.__b**2 - 4*self.__a*self.__c\n",
    "    \n",
    "    def find_roots(self):\n",
    "        D = self.__discriminant()\n",
    "        if D > 0 :\n",
    "            root1 = (-self.__b + math.sqrt(D)) / (2*self.__a)\n",
    "            root2 = (-self.__b - math.sqrt(D)) / (2*self.__a)\n",
    "            return root1, root2\n",
    "        elif D == 0 :\n",
    "            root = -self.__b / (2*self.__a)\n",
    "            return root\n",
    "        else :\n",
    "            root1 = -self.__b/(2*self.__a) + complex(cmath.sqrt(D) / (2*self.__a))\n",
    "            root2 = -self.__b/(2*self.__a) - complex(cmath.sqrt(D) / (2*self.__a))\n",
    "            return root1, root2\n",
    "\n",
    "qd = QuadraticEquation()\n",
    "\n",
    "qd.set_a(3)\n",
    "qd.set_b(4)\n",
    "qd.set_c(6) # discriminator becomes D<0\n",
    "\n",
    "roots = qd.find_roots()\n",
    "\n",
    "print(\"Roots are: \",roots)\n",
    "\n",
    "print(\"\\n=========================================\")\n",
    "\n",
    "qd.set_a(1)\n",
    "qd.set_b(4)\n",
    "qd.set_c(4) # D = 0\n",
    "\n",
    "roots = qd.find_roots()\n",
    "\n",
    "print(\"Roots are: \",roots)\n",
    "\n",
    "print(\"\\n=========================================\")\n",
    "\n",
    "qd.set_a(1)\n",
    "qd.set_b(-8)\n",
    "qd.set_c(5) # D > 0\n",
    "\n",
    "roots = qd.find_roots()\n",
    "print(\"Roots are\",roots)\n",
    "\n",
    "print(\"\\n=========================================\")\n",
    "\n"
   ]
  }
 ],
 "metadata": {
  "kernelspec": {
   "display_name": "Python 3",
   "language": "python",
   "name": "python3"
  },
  "language_info": {
   "codemirror_mode": {
    "name": "ipython",
    "version": 3
   },
   "file_extension": ".py",
   "mimetype": "text/x-python",
   "name": "python",
   "nbconvert_exporter": "python",
   "pygments_lexer": "ipython3",
   "version": "3.13.0"
  }
 },
 "nbformat": 4,
 "nbformat_minor": 2
}
