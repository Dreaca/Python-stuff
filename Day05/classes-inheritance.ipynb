{
 "cells": [
  {
   "cell_type": "code",
   "execution_count": 11,
   "metadata": {},
   "outputs": [
    {
     "name": "stdout",
     "output_type": "stream",
     "text": [
      "Deposit of 1000 successful\n",
      "The balance for account Buddhika is 10000\n",
      "================================\n",
      "\n",
      "Invalid withdrawal amount\n",
      "The balance for account Buddhika is 10000\n",
      "================================\n",
      "\n",
      "Withdrawal of 2000 successful\n",
      "The balance for account Buddhika is 8000\n"
     ]
    }
   ],
   "source": [
    "#create a class name BankAccount\n",
    "#1.an attribute account_holder to store the name of the account holder\n",
    "#2.an attribute balance to store the account balance,initialize to 0\n",
    "#add the following methods to the class deposit(amount) -> add the given amount to the balance\n",
    "#withdraw(amount) -> subtract the given amount from the balance if sufficient funds exist, otherwise print an error message\n",
    "#display_balance() -> display the balance\n",
    "#3. write a small script to demonstrate the following\n",
    "# + create an object of BankAccount class\n",
    "# + perform a few deposit and withdraw operations\n",
    "#+ display the balance after each operation\n",
    "\n",
    "class BankAccount:\n",
    "    def __init__(self, account_holder,balance = 0):\n",
    "        self.account_holder = account_holder\n",
    "        self.balance = balance\n",
    "\n",
    "    def deposit(self, amount):\n",
    "        if amount<0 :\n",
    "            print(\"Invalid deposit amount\")\n",
    "        else:\n",
    "            print(f\"Deposit of {amount} successful\")\n",
    "            self.balance += amount\n",
    "    \n",
    "    def withdraw(self, amount):\n",
    "        if amount<0 :\n",
    "            print(\"Invalid withdrawal amount\")\n",
    "        elif amount <= self.balance:\n",
    "            print(f\"Withdrawal of {amount} successful\")\n",
    "            self.balance -= amount\n",
    "        else:\n",
    "            print(\"Insufficient funds\")\n",
    "    \n",
    "    def display_balance(self):\n",
    "        print(f\"The balance for account {self.account_holder} is {self.balance}\")\n",
    "\n",
    "\n",
    "new_account = BankAccount(\"Buddhika\",9000)\n",
    "\n",
    "new_account.deposit(1000)\n",
    "new_account.display_balance()\n",
    "print(f\"================================\\n\")\n",
    "new_account.withdraw(-500)\n",
    "new_account.display_balance()\n",
    "print(f\"================================\\n\")\n",
    "new_account.withdraw(2000)\n",
    "new_account.display_balance()"
   ]
  },
  {
   "cell_type": "code",
   "execution_count": 20,
   "metadata": {},
   "outputs": [
    {
     "name": "stdout",
     "output_type": "stream",
     "text": [
      "Buddy Says woof\n",
      "black\n"
     ]
    }
   ],
   "source": [
    "class Animal:\n",
    "    def __init__(self, name):\n",
    "        self.name = name\n",
    "    def speak(self):\n",
    "        pass\n",
    "\n",
    "class Dog(Animal):\n",
    "    def speak(self):\n",
    "        print(self.name,\"Says woof\")\n",
    "    \n",
    "    def __init__(self,name,color):\n",
    "        super().__init__(name)  # <--- This line calls the Animal's constructor\n",
    "        self.color = color\n",
    "\n",
    "class Cat(Animal):\n",
    "    def speak(self):\n",
    "        print(self.name,\"Says meow\")\n",
    "\n",
    "# dog_1 = Dog(); < --- TypeError: Animal.__init__() missing 1 required positional argument: 'name'\n",
    "\n",
    "dog_2 = Dog(\"Buddy\",\"black\")\n",
    "dog_2.speak()\n",
    "print(dog_2.color)"
   ]
  },
  {
   "cell_type": "code",
   "execution_count": 24,
   "metadata": {},
   "outputs": [
    {
     "name": "stdout",
     "output_type": "stream",
     "text": [
      "Title : The Hobbit\n",
      "Author : J.R.R. Tolkien\n",
      "Publication Year : 1937\n",
      "Genre : Fantasy RPG\n",
      "Isbn : 1212112321321412312312312\n",
      "====================================\n",
      "\n",
      "Title : Sunday Observer\n",
      "Author : Lakehouse\n",
      "Publication Year : 2024\n",
      "Issue Number : 24\n"
     ]
    }
   ],
   "source": [
    "#you are tasked with creating a basic library managerment system using inheritence. Implement the following classes\n",
    "#1.Base Class = LibraryItem\n",
    "    # - Attributes: title (string), author (string), publication_year (integer)\n",
    "    # - Methods: display_info() - prints the details of the library item\n",
    "#2.Derived Class : Book - inherited from LibraryItem\n",
    "    # - Additional Attributes: genre (string),isbn(string)\n",
    "    # - Override: display_info() - prints the details of the book, including the genre and isbn\n",
    "#3. Derived class : Magazine - inherited from LibraryItem\n",
    "    # - Additional Attributes: issue_number (strinf) - issue number or the date of the issue\n",
    "    # - Override: display_info() - prints the details of the magazine, including the issue\n",
    "#Task :\n",
    "    #1. create instances of each class (Book, Magazine) with appropriate values for their attributes\n",
    "    #2. call the display_info() method on each instance to test instances and method overriding\n",
    "\n",
    "class LibraryItem:\n",
    "    def __init__(self, title, author, publication_year):\n",
    "        self.title = title\n",
    "        self.author = author\n",
    "        self.publication_year = publication_year\n",
    "    def display_info(self):\n",
    "        print(f\"Title : {self.title}\")\n",
    "        print(f\"Author : {self.author}\")\n",
    "        print(f\"Publication Year : {self.publication_year}\")\n",
    "class Book(LibraryItem):\n",
    "    def __init__(self, title, author, publication_year, genre, isbn):\n",
    "        super().__init__(title, author, publication_year)\n",
    "        self.genre = genre\n",
    "        self.isbn = isbn\n",
    "    def display_info(self):\n",
    "        super().display_info()\n",
    "        print(f\"Genre : {self.genre}\")\n",
    "        print(f\"Isbn : {self.isbn}\")\n",
    "\n",
    "class Magazine(LibraryItem):\n",
    "    def __init__(self, title, author, publication_year, issue_number):\n",
    "        super().__init__(title, author, publication_year)\n",
    "        self.issue_number = issue_number\n",
    "    \n",
    "    def display_info(self):\n",
    "        super().display_info()\n",
    "        print(f\"Issue Number : {self.issue_number}\")\n",
    "\n",
    "book1 = Book(\"The Hobbit\",\"J.R.R. Tolkien\",1937,\"Fantasy RPG\",\"1212112321321412312312312\")\n",
    "book1.display_info()\n",
    "\n",
    "print(\"====================================\\n\")\n",
    "\n",
    "magazine = Magazine(\"Sunday Observer\",\"Lakehouse\",\"2024\",\"24\")\n",
    "magazine.display_info()"
   ]
  }
 ],
 "metadata": {
  "kernelspec": {
   "display_name": "Python 3",
   "language": "python",
   "name": "python3"
  },
  "language_info": {
   "codemirror_mode": {
    "name": "ipython",
    "version": 3
   },
   "file_extension": ".py",
   "mimetype": "text/x-python",
   "name": "python",
   "nbconvert_exporter": "python",
   "pygments_lexer": "ipython3",
   "version": "3.13.0"
  }
 },
 "nbformat": 4,
 "nbformat_minor": 2
}
