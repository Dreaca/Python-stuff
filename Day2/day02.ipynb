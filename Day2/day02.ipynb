{
 "cells": [
  {
   "cell_type": "code",
   "execution_count": null,
   "metadata": {},
   "outputs": [
    {
     "name": "stdout",
     "output_type": "stream",
     "text": [
      "MyList2 =  [20, 15, 'Dog', True]\n",
      "MyList1 =  [20, 15, 'Dog', True, 'new dog']\n"
     ]
    }
   ],
   "source": [
    "my_list_1 = [20,15,\"Dog\",True]\n",
    "\n",
    "my_list_2 = my_list_1.copy()\n",
    "\n",
    "my_list_1.append(\"new dog\")\n",
    "\n",
    "print(\"MyList2 = \",my_list_2)\n",
    "\n",
    "print(\"MyList1 = \",my_list_1)"
   ]
  },
  {
   "cell_type": "code",
   "execution_count": 6,
   "metadata": {},
   "outputs": [
    {
     "name": "stdout",
     "output_type": "stream",
     "text": [
      "MyList2 =  [20, 15, 'Dog', True]\n",
      "MyList1 =  [20, 15, 'Dog', True, 'new dog']\n"
     ]
    }
   ],
   "source": [
    "my_list_1 = [20,15,\"Dog\",True]\n",
    "\n",
    "my_list_2 = list(my_list_1)\n",
    "\n",
    "my_list_1.append(\"new dog\")\n",
    "\n",
    "print(\"MyList2 = \",my_list_2)\n",
    "\n",
    "print(\"MyList1 = \",my_list_1)"
   ]
  },
  {
   "cell_type": "code",
   "execution_count": 7,
   "metadata": {},
   "outputs": [
    {
     "name": "stdout",
     "output_type": "stream",
     "text": [
      "MyList3 =  [20, 15, 'Dog', True, 10, 72, 'Cat', False]\n"
     ]
    }
   ],
   "source": [
    "my_list_1 = [20,15,\"Dog\",True]\n",
    "my_list_2 = [10,72,\"Cat\",False]\n",
    "\n",
    "my_list_3 = my_list_1+my_list_2\n",
    "\n",
    "print(\"MyList3 = \",my_list_3)\n"
   ]
  },
  {
   "cell_type": "code",
   "execution_count": 10,
   "metadata": {},
   "outputs": [
    {
     "name": "stdout",
     "output_type": "stream",
     "text": [
      "5\n",
      "<class 'tuple'>\n"
     ]
    }
   ],
   "source": [
    "#Python tuples\n",
    "\n",
    "my_tuple = (10,20,30,\"Dog\",True)\n",
    "\n",
    "print(len(my_tuple))\n",
    "\n",
    "print(type(my_tuple))"
   ]
  },
  {
   "cell_type": "code",
   "execution_count": 12,
   "metadata": {},
   "outputs": [
    {
     "name": "stdout",
     "output_type": "stream",
     "text": [
      "<class 'tuple'>\n"
     ]
    }
   ],
   "source": [
    "my_tuple2 = (\"Dog\",)\n",
    "\n",
    "print(type(my_tuple2))"
   ]
  },
  {
   "cell_type": "code",
   "execution_count": 13,
   "metadata": {},
   "outputs": [
    {
     "ename": "TypeError",
     "evalue": "'tuple' object does not support item assignment",
     "output_type": "error",
     "traceback": [
      "\u001b[1;31m---------------------------------------------------------------------------\u001b[0m",
      "\u001b[1;31mTypeError\u001b[0m                                 Traceback (most recent call last)",
      "Cell \u001b[1;32mIn[13], line 3\u001b[0m\n\u001b[0;32m      1\u001b[0m my_tuple \u001b[38;5;241m=\u001b[39m (\u001b[38;5;124m\"\u001b[39m\u001b[38;5;124mDog\u001b[39m\u001b[38;5;124m\"\u001b[39m,\u001b[38;5;124m\"\u001b[39m\u001b[38;5;124mCat\u001b[39m\u001b[38;5;124m\"\u001b[39m,\u001b[38;5;241m10\u001b[39m)\n\u001b[1;32m----> 3\u001b[0m \u001b[43mmy_tuple\u001b[49m\u001b[43m[\u001b[49m\u001b[38;5;241;43m1\u001b[39;49m\u001b[43m]\u001b[49m \u001b[38;5;241m=\u001b[39m \u001b[38;5;124m\"\u001b[39m\u001b[38;5;124mRat\u001b[39m\u001b[38;5;124m\"\u001b[39m\n\u001b[0;32m      5\u001b[0m \u001b[38;5;28mprint\u001b[39m(my_tuple)\n",
      "\u001b[1;31mTypeError\u001b[0m: 'tuple' object does not support item assignment"
     ]
    }
   ],
   "source": [
    "my_tuple = (\"Dog\",\"Cat\",10)\n",
    "\n",
    "my_tuple[1] = \"Rat\"\n",
    "\n",
    "print(my_tuple)"
   ]
  },
  {
   "cell_type": "code",
   "execution_count": 15,
   "metadata": {},
   "outputs": [
    {
     "name": "stdout",
     "output_type": "stream",
     "text": [
      "('Dog', 'Rat', 10) <class 'tuple'>\n"
     ]
    }
   ],
   "source": [
    "my_tuple = (\"Dog\",\"Cat\",10)\n",
    "\n",
    "my_tuple2 = list(my_tuple)\n",
    "\n",
    "my_tuple2[1] = \"Rat\"\n",
    "\n",
    "my_tuple = tuple(my_tuple2)\n",
    "\n",
    "print(my_tuple, type(my_tuple))"
   ]
  },
  {
   "cell_type": "code",
   "execution_count": 21,
   "metadata": {},
   "outputs": [
    {
     "name": "stdout",
     "output_type": "stream",
     "text": [
      "(-1, 5, 5, 8, 9, 10) <class 'tuple'>\n"
     ]
    }
   ],
   "source": [
    "my_tuple_1 = (10,8,20,5)\n",
    "\n",
    "my_tuple_2 = (5,9,-1)\n",
    "\n",
    "my_list = list(my_tuple_1)\n",
    "\n",
    "my_list.pop(-2)\n",
    "\n",
    "my_list.extend(list(my_tuple_2))\n",
    "\n",
    "my_list.sort()\n",
    "\n",
    "my_tuple_3 = tuple(my_list)\n",
    "\n",
    "print(my_tuple_3, type(my_tuple_3))"
   ]
  },
  {
   "cell_type": "code",
   "execution_count": 22,
   "metadata": {},
   "outputs": [
    {
     "name": "stdout",
     "output_type": "stream",
     "text": [
      "10 Rat True\n"
     ]
    }
   ],
   "source": [
    "my_tuple = ((1,10,8),(\"Dog\",\"Cat\",\"Rat\"),(True,False))\n",
    "\n",
    "print(my_tuple[0][1], my_tuple[1][2],my_tuple[2][0])"
   ]
  },
  {
   "cell_type": "code",
   "execution_count": 30,
   "metadata": {},
   "outputs": [
    {
     "name": "stdout",
     "output_type": "stream",
     "text": [
      "8 <class 'range'>\n"
     ]
    }
   ],
   "source": [
    "s_1 = range(2,15,3)\n",
    "\n",
    "print(s_1[2], type(s_1))"
   ]
  },
  {
   "cell_type": "code",
   "execution_count": 33,
   "metadata": {},
   "outputs": [
    {
     "name": "stdout",
     "output_type": "stream",
     "text": [
      "{'name': 'Sugar', 'price': 250.0, 'weight': '1kg'} <class 'dict'>\n"
     ]
    }
   ],
   "source": [
    "#Dictionaries\n",
    "\n",
    "dict_1 = {\n",
    "    \"name\":\"Sugar\",\n",
    "    \"price\":250.00,\n",
    "    \"weight\":\"1kg\"\n",
    "}\n",
    "print(dict_1, type(dict_1))\n"
   ]
  },
  {
   "cell_type": "code",
   "execution_count": 35,
   "metadata": {},
   "outputs": [
    {
     "name": "stdout",
     "output_type": "stream",
     "text": [
      "{'name': 'Sugar', 'price': 350.0, 'weight': '1kg'} <class 'dict'>\n"
     ]
    }
   ],
   "source": [
    "dict_1 = {\n",
    "    \"name\":\"Sugar\",\n",
    "    \"price\":250.00,\n",
    "    \"price\":350.00,\n",
    "    \"weight\":\"1kg\"\n",
    "}\n",
    "print(dict_1, type(dict_1))"
   ]
  },
  {
   "cell_type": "code",
   "execution_count": 38,
   "metadata": {},
   "outputs": [
    {
     "name": "stdout",
     "output_type": "stream",
     "text": [
      "1kg\n"
     ]
    }
   ],
   "source": [
    "dict_1 = {\n",
    "    \"name\":\"Sugar\",\n",
    "    \"price\":250.00,\n",
    "    \"weight\":\"1kg\"\n",
    "}\n",
    "\n",
    "print(dict_1[\"weight\"])"
   ]
  },
  {
   "cell_type": "code",
   "execution_count": 40,
   "metadata": {},
   "outputs": [
    {
     "name": "stdout",
     "output_type": "stream",
     "text": [
      "{'name': 'Sugar', 'price': 225.0, 'weight': '1kg'}\n"
     ]
    }
   ],
   "source": [
    "dict_1 = {\n",
    "    \"name\":\"Sugar\",\n",
    "    \"price\":250.00,\n",
    "    \"weight\":\"1kg\"\n",
    "}\n",
    "dict_1[\"price\"] = 225.00\n",
    "\n",
    "print(dict_1)"
   ]
  },
  {
   "cell_type": "code",
   "execution_count": 42,
   "metadata": {},
   "outputs": [
    {
     "name": "stdout",
     "output_type": "stream",
     "text": [
      "{'name': 'Sugar', 'price': 450.0, 'weight': '2kg'}\n"
     ]
    }
   ],
   "source": [
    "dict_1 = {\n",
    "    \"name\":\"Sugar\",\n",
    "    \"price\":250.00,\n",
    "    \"weight\":\"1kg\"\n",
    "}\n",
    "dict_1.update({\n",
    "    \"weight\":\"2kg\",\n",
    "    \"price\":450.00,\n",
    "})\n",
    "\n",
    "print(dict_1)"
   ]
  },
  {
   "cell_type": "code",
   "execution_count": 44,
   "metadata": {},
   "outputs": [
    {
     "name": "stdout",
     "output_type": "stream",
     "text": [
      "{'name': 'Sugar', 'price': 250.0, 'weight': '1kg', 'color': 'white'}\n"
     ]
    }
   ],
   "source": [
    "dict_1 = {\n",
    "    \"name\":\"Sugar\",\n",
    "    \"price\":250.00,\n",
    "    \"weight\":\"1kg\"\n",
    "}\n",
    "dict_1[\"color\"] = \"white\"\n",
    "\n",
    "print(dict_1)"
   ]
  },
  {
   "cell_type": "code",
   "execution_count": 46,
   "metadata": {},
   "outputs": [
    {
     "name": "stdout",
     "output_type": "stream",
     "text": [
      "{'name': 'Sugar', 'price': 250.0}\n"
     ]
    }
   ],
   "source": [
    "dict_1 = {\n",
    "    \"name\":\"Sugar\",\n",
    "    \"price\":250.00,\n",
    "    \"weight\":\"1kg\"\n",
    "}\n",
    "dict_1.pop(\"weight\")\n",
    "\n",
    "print(dict_1)"
   ]
  },
  {
   "cell_type": "code",
   "execution_count": 48,
   "metadata": {},
   "outputs": [
    {
     "name": "stdout",
     "output_type": "stream",
     "text": [
      "{'name': 'Sugar', 'price': 250.0}\n"
     ]
    }
   ],
   "source": [
    "dict_1 = {\n",
    "    \"name\":\"Sugar\",\n",
    "    \"price\":250.00,\n",
    "    \"weight\":\"1kg\"\n",
    "}\n",
    "dict_1.popitem()\n",
    "\n",
    "print(dict_1)"
   ]
  },
  {
   "cell_type": "code",
   "execution_count": 50,
   "metadata": {},
   "outputs": [
    {
     "name": "stdout",
     "output_type": "stream",
     "text": [
      "{'price': 250.0, 'weight': '1kg'}\n"
     ]
    }
   ],
   "source": [
    "dict_1 = {\n",
    "    \"name\":\"Sugar\",\n",
    "    \"price\":250.00,\n",
    "    \"weight\":\"1kg\"\n",
    "}\n",
    "del dict_1[\"name\"]\n",
    "\n",
    "print(dict_1)"
   ]
  },
  {
   "cell_type": "code",
   "execution_count": 53,
   "metadata": {},
   "outputs": [
    {
     "name": "stdout",
     "output_type": "stream",
     "text": [
      "Dict 1 : {'name': 'Sugar', 'price': 350.0, 'weight': '1kg'}\n",
      "Dict 2 :  {'name': 'Sugar', 'price': 250.0, 'weight': '1kg'}\n"
     ]
    }
   ],
   "source": [
    "dict_1 = {\n",
    "    \"name\":\"Sugar\",\n",
    "    \"price\":250.00,\n",
    "    \"weight\":\"1kg\"\n",
    "}\n",
    "\n",
    "dict_2 = dict_1.copy()\n",
    "\n",
    "dict_1[\"price\"] = 350.00\n",
    "\n",
    "print(\"Dict 1 :\", dict_1)\n",
    "print(\"Dict 2 : \",dict_2)"
   ]
  },
  {
   "cell_type": "code",
   "execution_count": 55,
   "metadata": {},
   "outputs": [
    {
     "name": "stdout",
     "output_type": "stream",
     "text": [
      "dict_keys(['name', 'price', 'weight'])\n"
     ]
    }
   ],
   "source": [
    "dict_1 = {\n",
    "    \"name\":\"Sugar\",\n",
    "    \"price\":250.00,\n",
    "    \"weight\":\"1kg\"\n",
    "}\n",
    "\n",
    "print(dict_1.keys())"
   ]
  },
  {
   "cell_type": "code",
   "execution_count": 57,
   "metadata": {},
   "outputs": [
    {
     "name": "stdout",
     "output_type": "stream",
     "text": [
      "4\n"
     ]
    }
   ],
   "source": [
    "a = 17//4\n",
    "\n",
    "print(a)"
   ]
  },
  {
   "cell_type": "code",
   "execution_count": 59,
   "metadata": {},
   "outputs": [
    {
     "name": "stdout",
     "output_type": "stream",
     "text": [
      "1\n"
     ]
    }
   ],
   "source": [
    "a = 17%4\n",
    "\n",
    "print(a)\n"
   ]
  },
  {
   "cell_type": "code",
   "execution_count": 61,
   "metadata": {},
   "outputs": [
    {
     "ename": "ValueError",
     "evalue": "invalid literal for int() with base 10: ''",
     "output_type": "error",
     "traceback": [
      "\u001b[1;31m---------------------------------------------------------------------------\u001b[0m",
      "\u001b[1;31mValueError\u001b[0m                                Traceback (most recent call last)",
      "Cell \u001b[1;32mIn[61], line 3\u001b[0m\n\u001b[0;32m      1\u001b[0m x \u001b[38;5;241m=\u001b[39m \u001b[38;5;28minput\u001b[39m(\u001b[38;5;124m\"\u001b[39m\u001b[38;5;124mEnter a value :\u001b[39m\u001b[38;5;124m\"\u001b[39m)\n\u001b[1;32m----> 3\u001b[0m \u001b[38;5;28mprint\u001b[39m(\u001b[38;5;28;43mint\u001b[39;49m\u001b[43m(\u001b[49m\u001b[43mx\u001b[49m\u001b[43m)\u001b[49m)\n",
      "\u001b[1;31mValueError\u001b[0m: invalid literal for int() with base 10: ''"
     ]
    }
   ],
   "source": [
    "x = input(\"Enter a value :\")\n",
    "\n",
    "print(int(x))"
   ]
  },
  {
   "cell_type": "code",
   "execution_count": 69,
   "metadata": {},
   "outputs": [
    {
     "ename": "ValueError",
     "evalue": "invalid literal for int() with base 10: ''",
     "output_type": "error",
     "traceback": [
      "\u001b[1;31m---------------------------------------------------------------------------\u001b[0m",
      "\u001b[1;31mValueError\u001b[0m                                Traceback (most recent call last)",
      "Cell \u001b[1;32mIn[69], line 2\u001b[0m\n\u001b[0;32m      1\u001b[0m x \u001b[38;5;241m=\u001b[39m \u001b[38;5;28minput\u001b[39m(\u001b[38;5;124m\"\u001b[39m\u001b[38;5;124mEnter a value :\u001b[39m\u001b[38;5;124m\"\u001b[39m)\n\u001b[1;32m----> 2\u001b[0m y \u001b[38;5;241m=\u001b[39m \u001b[38;5;28;43mint\u001b[39;49m\u001b[43m(\u001b[49m\u001b[43mx\u001b[49m\u001b[43m)\u001b[49m\u001b[38;5;241m%\u001b[39m\u001b[38;5;241m7\u001b[39m\n\u001b[0;32m      3\u001b[0m \u001b[38;5;28mprint\u001b[39m(y\u001b[38;5;241m==\u001b[39m\u001b[38;5;241m0\u001b[39m)\n",
      "\u001b[1;31mValueError\u001b[0m: invalid literal for int() with base 10: ''"
     ]
    }
   ],
   "source": [
    "x = input(\"Enter a value :\")\n",
    "y = int(x)%7\n",
    "print(y==0)"
   ]
  },
  {
   "cell_type": "code",
   "execution_count": 72,
   "metadata": {},
   "outputs": [
    {
     "name": "stdout",
     "output_type": "stream",
     "text": [
      "True\n",
      "False\n"
     ]
    }
   ],
   "source": [
    "x = 5\n",
    "y = 6\n",
    "\n",
    "print(x>1 and y<10)\n",
    "\n",
    "print(x>5 and y<10)"
   ]
  },
  {
   "cell_type": "code",
   "execution_count": 75,
   "metadata": {},
   "outputs": [
    {
     "name": "stdout",
     "output_type": "stream",
     "text": [
      "True\n",
      "False\n"
     ]
    }
   ],
   "source": [
    "x = 5\n",
    "y = 6\n",
    "\n",
    "print(x>5 or y<10)\n",
    "print(x>5 or y>10)"
   ]
  },
  {
   "cell_type": "code",
   "execution_count": 84,
   "metadata": {},
   "outputs": [
    {
     "name": "stdout",
     "output_type": "stream",
     "text": [
      "False\n"
     ]
    }
   ],
   "source": [
    "x = 5\n",
    "\n",
    "print( not x>2)"
   ]
  },
  {
   "cell_type": "code",
   "execution_count": 86,
   "metadata": {},
   "outputs": [
    {
     "ename": "ValueError",
     "evalue": "invalid literal for int() with base 10: ''",
     "output_type": "error",
     "traceback": [
      "\u001b[1;31m---------------------------------------------------------------------------\u001b[0m",
      "\u001b[1;31mValueError\u001b[0m                                Traceback (most recent call last)",
      "Cell \u001b[1;32mIn[86], line 2\u001b[0m\n\u001b[0;32m      1\u001b[0m x \u001b[38;5;241m=\u001b[39m \u001b[38;5;28minput\u001b[39m(\u001b[38;5;124m\"\u001b[39m\u001b[38;5;124mEnter a value :\u001b[39m\u001b[38;5;124m\"\u001b[39m)\n\u001b[1;32m----> 2\u001b[0m y \u001b[38;5;241m=\u001b[39m \u001b[38;5;28;43mint\u001b[39;49m\u001b[43m(\u001b[49m\u001b[43mx\u001b[49m\u001b[43m)\u001b[49m\n\u001b[0;32m      3\u001b[0m \u001b[38;5;28mprint\u001b[39m(\u001b[38;5;124m\"\u001b[39m\u001b[38;5;124mEntered Number :\u001b[39m\u001b[38;5;124m\"\u001b[39m,x,\u001b[38;5;124m\"\u001b[39m\u001b[38;5;124mConditions matched :\u001b[39m\u001b[38;5;124m\"\u001b[39m, (y \u001b[38;5;241m>\u001b[39m \u001b[38;5;241m0\u001b[39m \u001b[38;5;129;01mand\u001b[39;00m y \u001b[38;5;241m<\u001b[39m \u001b[38;5;241m100\u001b[39m )\u001b[38;5;129;01mand\u001b[39;00m y \u001b[38;5;241m%\u001b[39m \u001b[38;5;241m2\u001b[39m \u001b[38;5;241m==\u001b[39m \u001b[38;5;241m1\u001b[39m )\n",
      "\u001b[1;31mValueError\u001b[0m: invalid literal for int() with base 10: ''"
     ]
    }
   ],
   "source": [
    "x = input(\"Enter a value :\")\n",
    "y = int(x)\n",
    "print(\"Entered Number :\",x,\"Conditions matched :\", (y > 0 and y < 100 )and y % 2 == 1 )"
   ]
  },
  {
   "cell_type": "code",
   "execution_count": 88,
   "metadata": {},
   "outputs": [
    {
     "name": "stdout",
     "output_type": "stream",
     "text": [
      "False\n"
     ]
    }
   ],
   "source": [
    "x=5\n",
    "y=6\n",
    "\n",
    "print(x is y)"
   ]
  },
  {
   "cell_type": "code",
   "execution_count": 90,
   "metadata": {},
   "outputs": [
    {
     "name": "stdout",
     "output_type": "stream",
     "text": [
      "True\n"
     ]
    }
   ],
   "source": [
    "x=5\n",
    "y=5\n",
    "\n",
    "print(x is y)"
   ]
  },
  {
   "cell_type": "code",
   "execution_count": 92,
   "metadata": {},
   "outputs": [
    {
     "name": "stdout",
     "output_type": "stream",
     "text": [
      "True\n"
     ]
    }
   ],
   "source": [
    "nums = [10,12,8,5,4]\n",
    "\n",
    "print(10 in nums)"
   ]
  },
  {
   "cell_type": "code",
   "execution_count": 94,
   "metadata": {},
   "outputs": [
    {
     "name": "stdout",
     "output_type": "stream",
     "text": [
      "12 is even\n"
     ]
    }
   ],
   "source": [
    "n = 12\n",
    "\n",
    "if n % 2 == 0:\n",
    "    print(n, \"is even\")\n",
    "else:\n",
    "    print(n, \"is odd\")"
   ]
  },
  {
   "cell_type": "code",
   "execution_count": 96,
   "metadata": {},
   "outputs": [
    {
     "name": "stdout",
     "output_type": "stream",
     "text": [
      "10 is a positive number\n"
     ]
    }
   ],
   "source": [
    "a =  10\n",
    "\n",
    "if a < 0:\n",
    "    print(a,\"is a negative number\")\n",
    "elif a > 0:\n",
    "    print(a,\"is a positive number\")\n",
    "else:\n",
    "    print(a,\"is zero\")"
   ]
  },
  {
   "cell_type": "code",
   "execution_count": 1,
   "metadata": {},
   "outputs": [
    {
     "name": "stdout",
     "output_type": "stream",
     "text": [
      "Invalid input. Please enter a number between 0 and 100.\n"
     ]
    }
   ],
   "source": [
    "marks = input(\"Enter marks : \")\n",
    "\n",
    "marks = int(marks)\n",
    "\n",
    "if marks > 100 or marks < 0:\n",
    "    print(\"Invalid input. Please enter a number between 0 and 100.\")\n",
    "elif 100 >= marks >= 85:\n",
    "    print(\"Grade : A\")\n",
    "elif marks >= 75:\n",
    "    print(\"Grade : B\")\n",
    "elif marks >= 65:\n",
    "    print(\"Grade : C\")\n",
    "elif marks >= 55:\n",
    "    print(\"Grade : D\")\n",
    "else:\n",
    "    print(\"Grade : F\")"
   ]
  },
  {
   "cell_type": "code",
   "execution_count": null,
   "metadata": {},
   "outputs": [
    {
     "name": "stdout",
     "output_type": "stream",
     "text": [
      "The largest number is : 43\n"
     ]
    }
   ],
   "source": [
    "a = int(input(\"Enter number 1 :\"))\n",
    "\n",
    "b = int(input(\"Enter number 2 :\"))\n",
    "\n",
    "c = int(input(\"Enter number 3 :\"))\n",
    "\n",
    "if a >= b and a >= c:\n",
    "    print(\"The largest number is :\", a)\n",
    "elif b >= c and b >=a:\n",
    "    print(\"The largest number is :\", b)\n",
    "else:\n",
    "    print(\"The largest number is :\", c)"
   ]
  }
 ],
 "metadata": {
  "kernelspec": {
   "display_name": "Python 3",
   "language": "python",
   "name": "python3"
  },
  "language_info": {
   "codemirror_mode": {
    "name": "ipython",
    "version": 3
   },
   "file_extension": ".py",
   "mimetype": "text/x-python",
   "name": "python",
   "nbconvert_exporter": "python",
   "pygments_lexer": "ipython3",
   "version": "3.13.0"
  }
 },
 "nbformat": 4,
 "nbformat_minor": 2
}
