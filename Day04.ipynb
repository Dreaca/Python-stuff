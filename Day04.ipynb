{
 "cells": [
  {
   "cell_type": "code",
   "execution_count": 1,
   "metadata": {},
   "outputs": [
    {
     "name": "stdout",
     "output_type": "stream",
     "text": [
      "(1, 2, 3) <class 'tuple'>\n"
     ]
    }
   ],
   "source": [
    "def arbituary_arguments_function(*args):\n",
    "    print(args, type(args))\n",
    "\n",
    "arbituary_arguments_function(1,2,3)"
   ]
  },
  {
   "cell_type": "code",
   "execution_count": 8,
   "metadata": {},
   "outputs": [
    {
     "data": {
      "text/plain": [
       "348"
      ]
     },
     "execution_count": 8,
     "metadata": {},
     "output_type": "execute_result"
    }
   ],
   "source": [
    "def sum_of_args(*args):\n",
    "    return sum(args)\n",
    "\n",
    "sum_of_args(1,2,3,4,5,6,6,7,8,9,10,100,23,22,34,43,62,3)"
   ]
  },
  {
   "cell_type": "code",
   "execution_count": null,
   "metadata": {},
   "outputs": [
    {
     "name": "stdout",
     "output_type": "stream",
     "text": [
      "Student name :Buddhika\n",
      "Highest grade :  100\n",
      "Lowest grade :  23\n",
      "Total grade :  553\n",
      "Average grade :  79.0\n"
     ]
    }
   ],
   "source": [
    "#write a function called summerize_grades that accepts a students name as a mandatory argument\n",
    "#and An arbitrary number of grade scores. The function should,\n",
    "#1. print the student's name\n",
    "#2. calculate and print the highest grade score, lowest grade score and the average grade score from the provided scores\n",
    "#if no grades are provided you should print no grades available\n",
    "\n",
    "def summerize_grades(name, *scores):\n",
    "    print(\"Student name :\" + name)\n",
    "    if len(scores) !=0:\n",
    "        print(\"Highest grade : \" , max(scores))\n",
    "        print(\"Lowest grade : \" , min(scores))\n",
    "        print(\"Total grade : \" , sum(scores))\n",
    "        print(\"Average grade : \" , sum(scores) / len(scores))\n",
    "    else:\n",
    "        print(\"No grades available\")\n",
    "\n",
    "summerize_grades(\"Buddhika\",100,45,23,89,98,100,98)"
   ]
  },
  {
   "cell_type": "code",
   "execution_count": 17,
   "metadata": {},
   "outputs": [
    {
     "name": "stdout",
     "output_type": "stream",
     "text": [
      "name : John Doe\n",
      "city : New York\n",
      "{'name': 'John Doe', 'city': 'New York'} <class 'dict'>\n"
     ]
    }
   ],
   "source": [
    "def arbitrary_keyword_arguments(**kwargs):\n",
    "    for key,value in kwargs.items():\n",
    "        print(f\"{key} : {value}\")\n",
    "    print(kwargs, type(kwargs))\n",
    "\n",
    "arbitrary_keyword_arguments(name = \"John Doe\",city = \"New York\")"
   ]
  },
  {
   "cell_type": "code",
   "execution_count": 20,
   "metadata": {},
   "outputs": [
    {
     "name": "stdout",
     "output_type": "stream",
     "text": [
      "Employee name : Buddhika Pathum\n",
      "age : 23\n",
      "department : Animation\n",
      "salary : 50000\n"
     ]
    },
    {
     "data": {
      "text/plain": [
       "{'name': 'Buddhika Pathum',\n",
       " 'age': 23,\n",
       " 'department': 'Animation',\n",
       " 'salary': 50000}"
      ]
     },
     "execution_count": 20,
     "metadata": {},
     "output_type": "execute_result"
    }
   ],
   "source": [
    "#Employ management system. \n",
    "#write a python function called  employee_info that accepts a required name parameter and an arbitrary number of keyword arguments\n",
    "#representing additional details about the employee. The function should,\n",
    "#1. Print the employee's name\n",
    "#2. Iterate through the keyword arguments and print each key value pair in the format \"<key> : <value>\".\n",
    "#Bonus : return a dictionary with all the employee details\n",
    "\n",
    "def employee_info(name,**details):\n",
    "    print(\"Employee name :\", name)\n",
    "    for key,value in details.items():\n",
    "        print(key, \":\" ,value)\n",
    "\n",
    "    return dict(name=name,**details)\n",
    "\n",
    "\n",
    "employee_info(\"Buddhika Pathum\", age = 23, department = \"Animation\", salary = 50000)\n",
    "\n"
   ]
  },
  {
   "cell_type": "code",
   "execution_count": 21,
   "metadata": {},
   "outputs": [
    {
     "data": {
      "text/plain": [
       "20"
      ]
     },
     "execution_count": 21,
     "metadata": {},
     "output_type": "execute_result"
    }
   ],
   "source": [
    "abs(-20)"
   ]
  }
 ],
 "metadata": {
  "kernelspec": {
   "display_name": "Python 3",
   "language": "python",
   "name": "python3"
  },
  "language_info": {
   "codemirror_mode": {
    "name": "ipython",
    "version": 3
   },
   "file_extension": ".py",
   "mimetype": "text/x-python",
   "name": "python",
   "nbconvert_exporter": "python",
   "pygments_lexer": "ipython3",
   "version": "3.13.0"
  }
 },
 "nbformat": 4,
 "nbformat_minor": 2
}
