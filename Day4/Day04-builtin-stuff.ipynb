{
 "cells": [
  {
   "cell_type": "code",
   "execution_count": 1,
   "metadata": {},
   "outputs": [
    {
     "data": {
      "text/plain": [
       "20"
      ]
     },
     "execution_count": 1,
     "metadata": {},
     "output_type": "execute_result"
    }
   ],
   "source": [
    "abs(-20)"
   ]
  },
  {
   "cell_type": "code",
   "execution_count": 9,
   "metadata": {},
   "outputs": [
    {
     "name": "stdout",
     "output_type": "stream",
     "text": [
      "<map object at 0x00000201220D9030> <class 'map'>\n",
      "4\n",
      "16\n",
      "36\n",
      "[4, 16, 36] <class 'list'>\n"
     ]
    }
   ],
   "source": [
    "my_list = [2,4,6]\n",
    "\n",
    "def find_square(x):\n",
    "    print(x*x)\n",
    "    return x*x\n",
    "\n",
    "result = map(find_square,my_list)\n",
    "\n",
    "print(result,type(result))\n",
    "\n",
    "result = list(result)\n",
    "\n",
    "print(result,type(result))"
   ]
  },
  {
   "cell_type": "code",
   "execution_count": null,
   "metadata": {},
   "outputs": [
    {
     "name": "stdout",
     "output_type": "stream",
     "text": [
      "[11, 16, 12, 14]\n"
     ]
    }
   ],
   "source": [
    "my_list_1 = [10,12,7,5]\n",
    "my_list_2 = [9,5,4,1]\n",
    "\n",
    "def find_correspond_sum(x,y):\n",
    "    return x + y\n",
    "\n",
    "result = map(find_correspond_sum,my_list_1,my_list_2)\n",
    "\n",
    "print(list(result))\n",
    "\n"
   ]
  },
  {
   "cell_type": "code",
   "execution_count": 14,
   "metadata": {},
   "outputs": [
    {
     "name": "stdout",
     "output_type": "stream",
     "text": [
      "[68.0, 86.0, 77.0, 104.0, 122.0]\n"
     ]
    }
   ],
   "source": [
    "#you have a list of integers representing temperatures in celsius\n",
    "#temperature = [20,30,25,40,50]\n",
    "#write a python program using the map function to convert temperatures to fahrenheit\n",
    "#use the formula Fahrenheit = celsius * (9/5) + 32\n",
    "\n",
    "temperature = [20,30,25,40,50]\n",
    "\n",
    "def convert_to_farenheit(celcius):\n",
    "    return celcius * (9/5) + 32\n",
    "\n",
    "result = map(convert_to_farenheit, temperature)\n",
    "\n",
    "print(list(result))"
   ]
  },
  {
   "cell_type": "code",
   "execution_count": 2,
   "metadata": {},
   "outputs": [
    {
     "name": "stdout",
     "output_type": "stream",
     "text": [
      "[8, 12, 14] <class 'filter'>\n"
     ]
    }
   ],
   "source": [
    "my_list = [5,7,8,3,12,14]\n",
    "\n",
    "def is_odd(x):\n",
    "    return x % 2 == 0\n",
    "\n",
    "result = filter(is_odd, my_list)\n",
    "\n",
    "print(list(result),type(result))\n"
   ]
  },
  {
   "cell_type": "code",
   "execution_count": null,
   "metadata": {},
   "outputs": [],
   "source": []
  }
 ],
 "metadata": {
  "kernelspec": {
   "display_name": "Python 3",
   "language": "python",
   "name": "python3"
  },
  "language_info": {
   "codemirror_mode": {
    "name": "ipython",
    "version": 3
   },
   "file_extension": ".py",
   "mimetype": "text/x-python",
   "name": "python",
   "nbconvert_exporter": "python",
   "pygments_lexer": "ipython3",
   "version": "3.13.0"
  }
 },
 "nbformat": 4,
 "nbformat_minor": 2
}
