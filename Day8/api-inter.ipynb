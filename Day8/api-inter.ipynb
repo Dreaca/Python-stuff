{
 "cells": [
  {
   "cell_type": "code",
   "execution_count": 17,
   "metadata": {},
   "outputs": [
    {
     "name": "stdout",
     "output_type": "stream",
     "text": [
      "LATITUDE: 6.875\n",
      "LATITUDE: 79.875\n",
      "TIME : 2025-01-07T08:45\n",
      "TEMPERATURE : 32.0\n",
      "WIND SPEED :  8.8\n"
     ]
    }
   ],
   "source": [
    "import requests as rq\n",
    "import json\n",
    "\n",
    "base_url = 'https://api.open-meteo.com/v1/forecast'\n",
    "\n",
    "params = {\n",
    "    'latitude': 6.7231,\n",
    "    'longitude': 79.9206,\n",
    "    'current':'temperature_2m,wind_speed_10m'\n",
    "}\n",
    "response = rq.get(base_url, params=params)\n",
    "\n",
    "if response.status_code == 200:\n",
    "    data = response.json()\n",
    "\n",
    "    print(\"LATITUDE: \" + str(data['latitude']))\n",
    "    print(\"LATITUDE: \" + str(data['longitude']))\n",
    "    print(\"TIME :\",data.get('current').get('time'))\n",
    "    print(\"TEMPERATURE :\",data.get('current').get('temperature_2m'))\n",
    "    print(\"WIND SPEED : \" , data.get('current').get('wind_speed_10m'))\n",
    "    "
   ]
  },
  {
   "cell_type": "code",
   "execution_count": null,
   "metadata": {},
   "outputs": [],
   "source": [
    "import requests as rq\n",
    "import json\n",
    "\n",
    "def get_weather_data(latitude, longitude,current_info):\n",
    "    base_url = 'https://api.open-meteo.com/v1/forecast'\n",
    "\n",
    "    params = {\n",
    "        'latitude': latitude,\n",
    "        'longitude': longitude,\n",
    "        'current':current_info,\n",
    "    }\n",
    "    response = rq.get(base_url, params=params)\n",
    "\n",
    "    if response.status_code == 200:\n",
    "        data = response.json()\n",
    "\n",
    "        print(\"LATITUDE: \" + str(data['latitude']))\n",
    "        print(\"LATITUDE: \" + str(data['longitude']))\n",
    "        print(\"TIME :\",data.get('current').get('time'))\n",
    "        print(\"TEMPERATURE :\",data.get('current').get('temperature_2m'))\n",
    "        print(\"WIND SPEED : \" , data.get('current').get('wind_speed_10m'))\n",
    "\n",
    "get_weather_data(6.7231, 79.9206, 'temperature_2m,wind_speed_10m')"
   ]
  }
 ],
 "metadata": {
  "kernelspec": {
   "display_name": "Python 3",
   "language": "python",
   "name": "python3"
  },
  "language_info": {
   "codemirror_mode": {
    "name": "ipython",
    "version": 3
   },
   "file_extension": ".py",
   "mimetype": "text/x-python",
   "name": "python",
   "nbconvert_exporter": "python",
   "pygments_lexer": "ipython3",
   "version": "3.13.0"
  }
 },
 "nbformat": 4,
 "nbformat_minor": 2
}
