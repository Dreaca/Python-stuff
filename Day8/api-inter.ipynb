{
 "cells": [
  {
   "cell_type": "code",
   "execution_count": 17,
   "metadata": {},
   "outputs": [
    {
     "name": "stdout",
     "output_type": "stream",
     "text": [
      "LATITUDE: 6.875\n",
      "LATITUDE: 79.875\n",
      "TIME : 2025-01-07T08:45\n",
      "TEMPERATURE : 32.0\n",
      "WIND SPEED :  8.8\n"
     ]
    }
   ],
   "source": [
    "import requests as rq\n",
    "import json\n",
    "\n",
    "base_url = 'https://api.open-meteo.com/v1/forecast'\n",
    "\n",
    "params = {\n",
    "    'latitude': 6.7231,\n",
    "    'longitude': 79.9206,\n",
    "    'current':'temperature_2m,wind_speed_10m'\n",
    "}\n",
    "response = rq.get(base_url, params=params)\n",
    "\n",
    "if response.status_code == 200:\n",
    "    data = response.json()\n",
    "\n",
    "    print(\"LATITUDE: \" + str(data['latitude']))\n",
    "    print(\"LATITUDE: \" + str(data['longitude']))\n",
    "    print(\"TIME :\",data.get('current').get('time'))\n",
    "    print(\"TEMPERATURE :\",data.get('current').get('temperature_2m'))\n",
    "    print(\"WIND SPEED : \" , data.get('current').get('wind_speed_10m'))\n",
    "    "
   ]
  },
  {
   "cell_type": "code",
   "execution_count": 32,
   "metadata": {},
   "outputs": [
    {
     "name": "stdout",
     "output_type": "stream",
     "text": [
      "{'latitude': 6.875, 'longitude': 79.875, 'generationtime_ms': 0.032901763916015625, 'utc_offset_seconds': 0, 'timezone': 'GMT', 'timezone_abbreviation': 'GMT', 'elevation': 3.0, 'current_units': {'time': 'iso8601', 'interval': 'seconds', 'temperature_2m': '°C', 'wind_speed_10m': 'km/h'}, 'current': {'time': '2025-01-07T09:00', 'interval': 900, 'temperature_2m': 32.0, 'wind_speed_10m': 9.1}}\n"
     ]
    }
   ],
   "source": [
    "import requests as rq\n",
    "import json\n",
    "\n",
    "def get_weather_data(latitude, longitude,current_info):\n",
    "    base_url = 'https://api.open-meteo.com/v1/forecast'\n",
    "\n",
    "    params = {\n",
    "        'latitude': latitude,\n",
    "        'longitude': longitude,\n",
    "        'current':current_info,\n",
    "    }\n",
    "    response = rq.get(base_url, params=params)\n",
    "\n",
    "    if response.status_code == 200:\n",
    "        data = response.json()\n",
    "        return data;\n",
    "\n",
    "    else:\n",
    "        print(\"Error occurred during API request with response code\",response.status_code)\n",
    "        return None;\n",
    "\n",
    "weather_data=get_weather_data(6.7231, 79.9206, 'temperature_2m,wind_speed_10m')\n",
    "print(weather_data)\n"
   ]
  },
  {
   "cell_type": "code",
   "execution_count": null,
   "metadata": {},
   "outputs": [
    {
     "name": "stdout",
     "output_type": "stream",
     "text": [
      "TEMPERATURE :  31.8\n",
      "WIND SPEED :  9.8\n"
     ]
    }
   ],
   "source": [
    "import requests as rq\n",
    "import json\n",
    "\n",
    "def get_weather_data(latitude, longitude,current_info):\n",
    "    base_url = 'https://api.open-meteo.com/v1/forecast'\n",
    "\n",
    "    params = {\n",
    "        'latitude': latitude,\n",
    "        'longitude': longitude,\n",
    "        'current':current_info,\n",
    "    }\n",
    "    response = rq.get(base_url, params=params)\n",
    "\n",
    "    if response.status_code == 200:\n",
    "        data = response.json()\n",
    "        #returns response as a json object\n",
    "        return data;\n",
    "\n",
    "    else:\n",
    "        print(\"Error occurred during API request with response code\",response.status_code)\n",
    "        return None;\n",
    "\n",
    "def parse_weather_data(weather_data):\n",
    "\n",
    "    if weather_data != None:\n",
    "\n",
    "        current_data = weather_data.get('current')\n",
    "        \n",
    "        if current_data:\n",
    "            print(\"TEMPERATURE : \", current_data.get('temperature_2m'))\n",
    "            print(\"WIND SPEED : \", current_data.get('wind_speed_10m'))\n",
    "        else:\n",
    "            print(\"No current weather data available\")\n",
    "\n",
    "weather_data=get_weather_data(6.7231, 79.9206, 'temperature_2m,wind_speed_10m')\n",
    "\n",
    "parse_weather_data(weather_data)\n"
   ]
  }
 ],
 "metadata": {
  "kernelspec": {
   "display_name": "Python 3",
   "language": "python",
   "name": "python3"
  },
  "language_info": {
   "codemirror_mode": {
    "name": "ipython",
    "version": 3
   },
   "file_extension": ".py",
   "mimetype": "text/x-python",
   "name": "python",
   "nbconvert_exporter": "python",
   "pygments_lexer": "ipython3",
   "version": "3.13.0"
  }
 },
 "nbformat": 4,
 "nbformat_minor": 2
}
