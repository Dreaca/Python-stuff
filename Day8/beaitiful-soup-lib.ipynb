{
 "cells": [
  {
   "cell_type": "code",
   "execution_count": 11,
   "metadata": {},
   "outputs": [
    {
     "name": "stdout",
     "output_type": "stream",
     "text": [
      "TITLE : <title>The Dormouse's story</title>\n",
      "FIRST P : <p class=\"title\"><b>The Dormouse's story</b></p>\n",
      "FIRST A : <a href='http://example.com/elsie\" class=' id=\"link1\" sister\"=\"\">Elsie</a>\n",
      "<p class=\"title\"><b>The Dormouse's story</b></p>\n",
      "[<p class=\"title\"><b>The Dormouse's story</b></p>, <p class=\"story\">Once upon a time there were three little sisters; and their names were\n",
      "<a href='http://example.com/elsie\" class=' id=\"link1\" sister\"=\"\">Elsie</a>,\n",
      "<a href='http://example.com/lacie\" class=' id=\"link2\" sister\"=\"\">Lacie</a> and\n",
      "<a href='http://example.com/tillie\" class=' id=\"link3\" sister\"=\"\">Tillie</a>;\n",
      "and they lived at the bottom of a well.</p>, <p class=\"story\">...</p>] <class 'bs4.element.ResultSet'>\n"
     ]
    }
   ],
   "source": [
    "from bs4 import BeautifulSoup as bs\n",
    "\n",
    "html_doc = \"\"\"<html><head><title>The Dormouse's story</title></head>\n",
    "<body>\n",
    "<p class=\"title\"><b>The Dormouse's story</b></p>\n",
    "<p class=\"story\">Once upon a time there were three little sisters; and their names were\n",
    "<a href=\"http://example.com/elsie&quot; class=\"sister\" id=\"link1\">Elsie</a>,\n",
    "<a href=\"http://example.com/lacie&quot; class=\"sister\" id=\"link2\">Lacie</a> and\n",
    "<a href=\"http://example.com/tillie&quot; class=\"sister\" id=\"link3\">Tillie</a>;\n",
    "and they lived at the bottom of a well.</p>\n",
    "<p class=\"story\">...</p>\n",
    "\"\"\"\n",
    "soup = bs(html_doc, 'html.parser')\n",
    "\n",
    "print(\"TITLE :\",soup.title)\n",
    "\n",
    "print(\"FIRST P :\",soup.p)\n",
    "\n",
    "print(\"FIRST A :\",soup.a)\n",
    "\n",
    "p_tag = soup.find('p')\n",
    "\n",
    "print(p_tag)\n",
    "\n",
    "p_tags =soup.find_all('p')\n",
    "\n",
    "print(p_tags,type(p_tags))"
   ]
  },
  {
   "cell_type": "code",
   "execution_count": null,
   "metadata": {},
   "outputs": [
    {
     "name": "stdout",
     "output_type": "stream",
     "text": [
      "<h1>Example Domain</h1>\n"
     ]
    }
   ],
   "source": [
    "#Q: Fetch a webpage, check if the request was successful, and extract the main heading text from the pages's content\n",
    "#You can assume that the base url is \"http://example.com\"\n",
    "\n",
    "import requests as rq\n",
    "from bs4 import BeautifulSoup as bs\n",
    "\n",
    "url = \"http://example.com\"\n",
    "\n",
    "response = rq.get(url)\n",
    "\n",
    "if response.status_code == 200:\n",
    "    soup = bs(response.text, 'html.parser')\n",
    "\n",
    "    main_heading = soup.find('h1')\n",
    "\n",
    "    if main_heading:\n",
    "        print(main_heading)\n",
    "    else:\n",
    "        print(\"No main heading found\")\n",
    "\n",
    "else:\n",
    "    print(\"Request failed with status code\", response.status_code)\n"
   ]
  }
 ],
 "metadata": {
  "kernelspec": {
   "display_name": "Python 3",
   "language": "python",
   "name": "python3"
  },
  "language_info": {
   "codemirror_mode": {
    "name": "ipython",
    "version": 3
   },
   "file_extension": ".py",
   "mimetype": "text/x-python",
   "name": "python",
   "nbconvert_exporter": "python",
   "pygments_lexer": "ipython3",
   "version": "3.13.0"
  }
 },
 "nbformat": 4,
 "nbformat_minor": 2
}
