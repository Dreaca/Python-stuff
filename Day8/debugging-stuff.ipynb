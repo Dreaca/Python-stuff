{
 "cells": [
  {
   "cell_type": "code",
   "execution_count": null,
   "metadata": {},
   "outputs": [],
   "source": []
  },
  {
   "cell_type": "code",
   "execution_count": null,
   "metadata": {},
   "outputs": [
    {
     "name": "stdout",
     "output_type": "stream",
     "text": [
      "> \u001b[1;32mc:\\users\\lapcity\\appdata\\local\\temp\\ipykernel_2100\\2681854916.py\u001b[0m(7)\u001b[0;36m<module>\u001b[1;34m()\u001b[0m\n",
      "\n",
      "20\n",
      "32\n"
     ]
    }
   ],
   "source": [
    "import pdb\n",
    "\n",
    "def multiplication(a,b):\n",
    "    answer = a*b\n",
    "    return answer\n",
    "\n",
    "pdb.set_trace()\n",
    "pdb.breakpoint()\n",
    "\n",
    "x = input(\"Enter first number to multiply : \")\n",
    "\n",
    "y = input(\"Enter second number to multiply : \")\n",
    "\n",
    "mul = multiplication(x,y)\n",
    "\n",
    "print(mul)"
   ]
  }
 ],
 "metadata": {
  "kernelspec": {
   "display_name": "Python 3",
   "language": "python",
   "name": "python3"
  },
  "language_info": {
   "codemirror_mode": {
    "name": "ipython",
    "version": 3
   },
   "file_extension": ".py",
   "mimetype": "text/x-python",
   "name": "python",
   "nbconvert_exporter": "python",
   "pygments_lexer": "ipython3",
   "version": "3.13.0"
  }
 },
 "nbformat": 4,
 "nbformat_minor": 2
}
